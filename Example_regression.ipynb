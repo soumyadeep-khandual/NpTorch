{
 "cells": [
  {
   "cell_type": "code",
   "execution_count": 1,
   "id": "f227e2e1-7690-4817-a4a5-73351d9fee9b",
   "metadata": {},
   "outputs": [],
   "source": [
    "import nptorch as nt \n",
    "import numpy as np\n",
    "from sklearn import datasets\n",
    "from sklearn.model_selection import train_test_split\n",
    "from sklearn.preprocessing import StandardScaler\n",
    "from tqdm.auto import tqdm\n",
    "import matplotlib.pyplot as plt"
   ]
  },
  {
   "cell_type": "code",
   "execution_count": 2,
   "id": "6004e3dd-e233-47a0-89e0-0db2866e5de9",
   "metadata": {},
   "outputs": [
    {
     "name": "stdout",
     "output_type": "stream",
     "text": [
      "X shape: (100000, 32) \n",
      "y shape: (100000, 16)\n",
      "X_train shape: (75000, 32) \n",
      "y_train shape: (75000, 16)\n",
      "X_test shape: (25000, 32) \n",
      "y_test shape: (25000, 16)\n"
     ]
    }
   ],
   "source": [
    "X,y = datasets.make_regression(\n",
    "    n_samples=100000,\n",
    "    n_features=32,\n",
    "    n_informative=10,\n",
    "    n_targets=16,\n",
    "    bias=0.0,\n",
    "    effective_rank=None,\n",
    "    tail_strength=0.5,\n",
    "    noise=0.0,\n",
    "    shuffle=True,\n",
    "    coef=False,\n",
    "    random_state=None,\n",
    ")\n",
    "print(\"X shape:\",X.shape,\"\\ny shape:\",y.shape)\n",
    "\n",
    "std = StandardScaler()\n",
    "X = std.fit_transform(X)\n",
    "y = std.fit_transform(y)\n",
    "\n",
    "X_train, X_test, y_train, y_test = train_test_split(\n",
    "    X,y,\n",
    "    test_size=0.25,\n",
    "    train_size=None,\n",
    "    random_state=None,\n",
    "    shuffle=True,\n",
    "    stratify=None,\n",
    ")\n",
    "print(\"X_train shape:\",X_train.shape,\"\\ny_train shape:\",y_train.shape)\n",
    "print(\"X_test shape:\",X_test.shape,\"\\ny_test shape:\",y_test.shape)"
   ]
  },
  {
   "cell_type": "code",
   "execution_count": 3,
   "id": "c504832e-27e0-40f3-ae44-5b95daef922f",
   "metadata": {},
   "outputs": [],
   "source": [
    "model = nt.Sequential([\n",
    "    # nt.Dropout(),\n",
    "    nt.Linear(32,128),\n",
    "    nt.ReLU(),\n",
    "    nt.Dropout(),\n",
    "    nt.Linear(128,16)\n",
    "])\n",
    "\n",
    "mse = nt.MSELoss()"
   ]
  },
  {
   "cell_type": "code",
   "execution_count": 4,
   "id": "d046d1e5-c5c7-4965-b891-abcd67d86c47",
   "metadata": {},
   "outputs": [
    {
     "data": {
      "application/vnd.jupyter.widget-view+json": {
       "model_id": "d775fa27d00d46ad8922e7db0308222c",
       "version_major": 2,
       "version_minor": 0
      },
      "text/plain": [
       "  0%|          | 0/100000 [00:00<?, ? Epochs/s]"
      ]
     },
     "metadata": {},
     "output_type": "display_data"
    },
    {
     "name": "stdout",
     "output_type": "stream",
     "text": [
      "Test Loss : 0.032891\n"
     ]
    }
   ],
   "source": [
    "n_epochs = 100000\n",
    "batch_size = 32\n",
    "lr = 0.001\n",
    "update_epoch = n_epochs // 100\n",
    "pbar = tqdm(range(n_epochs), unit=\" Epochs\", miniters=update_epoch)\n",
    "loss_array=[]\n",
    "for epoch in pbar:\n",
    "    idx = np.random.randint(0,len(X_train),(batch_size,))\n",
    "    y_pred=model(X_train[idx])\n",
    "    loss=mse(y_pred,y_train[idx])\n",
    "    loss.zero_grad()\n",
    "    loss.backward()\n",
    "    for params in model.parameters():\n",
    "        params.data -= lr*params.grad\n",
    "    if (epoch+1) % update_epoch == 0:\n",
    "        pbar.set_description(f\"Mini Batch Loss={loss.data:.4f}\")\n",
    "    loss_array.append(loss.data)\n",
    "model.train_mode(False)\n",
    "y_pred = model(X_test)\n",
    "loss = mse(y_pred,y_test)\n",
    "print(f\"Test Loss : {loss.data:.6f}\")\n",
    "model.train_mode(True)"
   ]
  },
  {
   "cell_type": "code",
   "execution_count": 5,
   "id": "9e510651-0f88-462a-894d-795d88b411f0",
   "metadata": {},
   "outputs": [
    {
     "data": {
      "image/png": "[encoded data removed]",
      "text/plain": [
       "<Figure size 640x480 with 1 Axes>"
      ]
     },
     "metadata": {},
     "output_type": "display_data"
    }
   ],
   "source": [
    "import pandas as pd\n",
    "pd.Series(loss_array)\\\n",
    "    .rolling(100).mean().dropna()\\\n",
    "    .plot(\n",
    "        xlabel=\"Epochs\",\n",
    "        ylabel=\"Minibatch loss\",\n",
    "    ).ticklabel_format(\n",
    "        axis='both', \n",
    "        style='sci',\n",
    "        scilimits=(0,0),\n",
    "        useMathText=True,\n",
    "    )\n",
    "plt.show()"
   ]
  }
 ],
 "metadata": {
  "kernelspec": {
   "display_name": "dev",
   "language": "python",
   "name": "dev"
  },
  "language_info": {
   "codemirror_mode": {
    "name": "ipython",
    "version": 3
   },
   "file_extension": ".py",
   "mimetype": "text/x-python",
   "name": "python",
   "nbconvert_exporter": "python",
   "pygments_lexer": "ipython3",
   "version": "3.10.9"
  }
 },
 "nbformat": 4,
 "nbformat_minor": 5
}
